{
  "nbformat": 4,
  "nbformat_minor": 0,
  "metadata": {
    "colab": {
      "provenance": [],
      "collapsed_sections": [],
      "include_colab_link": true
    },
    "kernelspec": {
      "name": "python3",
      "display_name": "Python 3"
    },
    "language_info": {
      "name": "python"
    },
    "accelerator": "GPU"
  },
  "cells": [
    {
      "cell_type": "markdown",
      "metadata": {
        "id": "view-in-github",
        "colab_type": "text"
      },
      "source": [
        "<a href=\"https://colab.research.google.com/github/DonRoboto/ReinforcemenLearning_v1/blob/main/OPTIMIZACI%C3%93N_DE_HIPERPAR%C3%81METROS_PRESENTACI%C3%93N.ipynb\" target=\"_parent\"><img src=\"https://colab.research.google.com/assets/colab-badge.svg\" alt=\"Open In Colab\"/></a>"
      ]
    },
    {
      "cell_type": "markdown",
      "source": [
        "Primero se exportan librerias y modulos que se utilizaran."
      ],
      "metadata": {
        "id": "rQd-KLOcKoe_"
      }
    },
    {
      "cell_type": "code",
      "execution_count": null,
      "metadata": {
        "id": "DsT3P5b7BAJu"
      },
      "outputs": [],
      "source": [
        "import numpy as np\n",
        "import pandas as pd\n",
        "import matplotlib.pyplot as plt\n",
        "\n",
        "from sklearn.preprocessing import MinMaxScaler\n",
        "\n",
        "from tensorflow.keras.models import Sequential\n",
        "from tensorflow.keras.layers import Dense\n",
        "from tensorflow.keras.layers import LSTM\n",
        "from tensorflow.keras.layers import Dropout\n",
        "from tensorflow.keras.callbacks import EarlyStopping\n",
        "from tensorflow.keras.utils import set_random_seed\n",
        "\n",
        "\n",
        "from tensorflow.keras.optimizers import Adam\n",
        "\n"
      ]
    },
    {
      "cell_type": "markdown",
      "source": [
        "Damos acceso a colab a Drive.\n"
      ],
      "metadata": {
        "id": "xIbMqLUaKwMG"
      }
    },
    {
      "cell_type": "code",
      "source": [
        "from google.colab import drive\n",
        "drive.mount('/content/drive')"
      ],
      "metadata": {
        "colab": {
          "base_uri": "https://localhost:8080/"
        },
        "id": "edSlaVQ_Dusr",
        "outputId": "8c2c11ba-c0f1-42b1-a3c7-d24ac1d2fd3f"
      },
      "execution_count": null,
      "outputs": [
        {
          "output_type": "stream",
          "name": "stdout",
          "text": [
            "Mounted at /content/drive\n"
          ]
        }
      ]
    },
    {
      "cell_type": "markdown",
      "source": [
        "Se crea un programa para generar las entradas y salidas de la red LSTM."
      ],
      "metadata": {
        "id": "ZRGxaDxNLbdy"
      }
    },
    {
      "cell_type": "code",
      "source": [
        "\n",
        "class CreateDataset:\n",
        "    \"\"\"\n",
        "    Este programa preprocesa los datos.\n",
        "    \"\"\"\n",
        "\n",
        "    def __init__(self, path) -> None:\n",
        "\n",
        "        self.path = path        \n",
        "        self.df = pd.read_csv(path, index_col = 'Date', parse_dates=True)\n",
        "\n",
        "        self.df_all = self.df\n",
        "        self.normalize()\n",
        "\n",
        "    def normalize(self):\n",
        "        \"\"\"\n",
        "        Este méotodo hace una normalización de los datos.\n",
        "        \"\"\"\n",
        "        self.scaler = MinMaxScaler()\n",
        "        values = self.df.loc[:,['Close']].values\n",
        "        self.scaler.fit(np.array(values))\n",
        "        self.df = self.scaler.transform(values)\n",
        "\n",
        "        self.do_scale_close()\n",
        "\n",
        "\n",
        "    def do_scale_close(self):\n",
        "        \"\"\"\n",
        "        Normaliza el precio de cierre.\n",
        "        \"\"\"\n",
        "        self.scale_close = MinMaxScaler(feature_range=(0, 1))\n",
        "        values = self.df_all['Close'].values.reshape(-1, 1)\n",
        "        self.scale_close.fit(values)\n",
        "        self.close = self.scale_close.transform(values).reshape(-1)\n",
        "\n",
        "    def create_dataset(self, dataset1, dataset2, windows=0):\n",
        "        \"\"\"\n",
        "        Crea el conjunto de datos. \n",
        "        \"\"\"\n",
        "        dataX, dataY = [], []\n",
        "        for i in range(len(dataset1) - windows   -1):  \n",
        "            a = dataset1[i:(i + windows)]\n",
        "            dataX.append(a)\n",
        "            dataY.append(dataset2[i + windows])    \n",
        "        return np.array(dataX), np.array(dataY)\n",
        "    \n",
        "    def crea_all_dataset(self, windows=100, train_size=0.65):\n",
        "        \"\"\"\n",
        "        Corre cada uno de los métodos para geberar las entradas y salidas.\n",
        "        \"\"\"\n",
        "        \n",
        "        training_size = int(len(self.df)*train_size)\n",
        "        train_data_x, test_data_x = self.df[:training_size], self.df[training_size:]\n",
        "        train_data_y, test_data_y = self.close[:training_size], self.close[training_size:]\n",
        "        self.X_train, self.y_train = self.create_dataset(train_data_x, train_data_y, windows)\n",
        "        self.X_test, self.y_test = self.create_dataset(test_data_x, test_data_y, windows)\n",
        "\n",
        "        self.X_train = self.X_train\n",
        "        self.X_test = self.X_test"
      ],
      "metadata": {
        "id": "i4Xv6FO3CEgt"
      },
      "execution_count": null,
      "outputs": []
    },
    {
      "cell_type": "code",
      "source": [
        "\n",
        "path = 'GOOGL.csv'\n",
        "train_size = 0.85\n",
        "seed = 1\n",
        "\n",
        "\n",
        "\n",
        "batch_size = [8, 16, 32, 64]\n",
        "epochs_list = [12, 25, 50, 100, 150]\n",
        "hidden_list = [1, 20, 50, 80, 96, 110, 150]\n",
        "windows_list = [20, 40, 60, 80, 90, 100]\n",
        "\n",
        "no_filters = [1, 20, 50, 80, 96, 110, 150]\n",
        "# kernel_size_space = [1, 2, 3, 4, 5]\n",
        "kernel_size_space = [1, 20, 50, 80, 96]\n",
        "\n",
        "create_dataset = CreateDataset(path=path)\n"
      ],
      "metadata": {
        "id": "nJHkx0ZtCu3t"
      },
      "execution_count": null,
      "outputs": []
    },
    {
      "cell_type": "code",
      "source": [
        "\n",
        "\n",
        "class Problem:\n",
        "    def __init__(self, save_solitions, seed) -> None:\n",
        "        set_random_seed(seed=seed)\n",
        "        self.SOLUTIONS_LIST = list()\n",
        "        self.FITNESS_LIST = list()\n",
        "        self.solutions_path = save_solitions\n",
        "        try:\n",
        "            self.load_solutions()\n",
        "        except:            \n",
        "            with open(self.solutions_path, 'w') as fp:  \n",
        "                print(\"Created file for to save solutions and fitness\")\n",
        "\n",
        "\n",
        "    def save_solution_fitness_to_csv(self, solution, fitness):\n",
        "        \"\"\"\n",
        "        Guardar soluciones, este método sirve para guardar soluciones\n",
        "        de cada llamada a función,\n",
        "        este método ayuda para detener el programa\n",
        "        y luego continuar con el proceso de optimización \n",
        "        cargando las solucioens guarddas hasta ese momento.\n",
        "\n",
        "        \"\"\"\n",
        "        with open(self.solutions_path, 'a') as fp:\n",
        "            writer = csv.writer(fp)\n",
        "            writer.writerow([[solution], fitness])\n",
        "\n",
        "    def load_solutions(self):\n",
        "        \"\"\"\n",
        "        Este método carga soluciones.\n",
        "        \n",
        "        \"\"\"\n",
        "        \n",
        "        with open(self.solutions_path, 'r') as fp:    \n",
        "            writer = csv.reader(fp)\n",
        "            l1 = list(writer)\n",
        "            for sf in l1:\n",
        "                fitness = float(sf[1])     \n",
        "                self.FITNESS_LIST.append(fitness)  \n",
        "\n",
        "                solution = sf[0].replace('[', '').replace(']', '').split(',')\n",
        "                solution = list(map(int, solution))\n",
        "\n",
        "                self.SOLUTIONS_LIST.append(solution)\n",
        "            print(\"Se cargaron soluciones.\")\n",
        "   \n",
        "   \n",
        "    def create_ann(self,\n",
        "            hidden_states: int,\n",
        "            windows: int,\n",
        "            optimizer: str,\n",
        "            batch_size: int,\n",
        "            epochs: int,\n",
        "            n_layers: int):\n",
        "        \"\"\"\n",
        "        Crea red neuronal tipo LSTM con los hiperparámetros dados.\n",
        "        \"\"\"\n",
        "        \n",
        "        \n",
        "\n",
        "        self.epochs = epochs # Guardo el número de épocas. \n",
        "        \n",
        "        self.model = Sequential() # Instancia un modelo secuencial.\n",
        "\n",
        "        \n",
        "        # Con las siguientes funciones creo la red LSTM, en caso de ser mayor a uno n_layer, crea una red\n",
        "        # con más de una celda LSTM.\n",
        "        if n_layers > 1:\n",
        "            # Crea una red con varias celdas LSTM\n",
        "            # Cuando tiene más de una celdas, las celdas LSTM deben de tener return_sequences en True, para retornar toda la secuencia.\n",
        "            # input_shape=(windows, 1) se refiere al tamaño de la secuencia y el número de característica de la sequencia. (windows, 1 por que solo entra el precio de cierre)\n",
        "            self.model.add(LSTM(hidden_states, return_sequences=True, input_shape=(windows, 1))) \n",
        "            self.model.add(Dropout(0.5))\n",
        "            for _ in range(2, n_layers):\n",
        "                self.model.add(LSTM(hidden_states, return_sequences=True, input_shape=(windows, 1)))\n",
        "                self.model.add(Dropout(0.5))\n",
        "            self.model.add(LSTM(hidden_states, return_sequences=False, input_shape=(windows, 1)))\n",
        "            self.model.add(Dropout(0.5))\n",
        "        else: # De lo contrario crea una red LSTM con una sola celda. \n",
        "            # Crea una red neuronal con una sola celda LSTM\n",
        "            self.model.add(LSTM(hidden_states, return_sequences=False, input_shape=(windows, 1)))\n",
        "            self.model.add(Dropout(0.5))\n",
        "        self.model.add(Dense(1))\n",
        "\n",
        "        # Se compila el modelo.        \n",
        "        self.model.compile(loss='mean_squared_error', optimizer=optimizer)\n",
        "        \n",
        "        self.batch_size = batch_size\n",
        "\n",
        "    \n",
        "\n",
        "    def trian_ann(self, solution_vector):\n",
        "        # hidden, windwos, learning_rate, batch, epochs, n_layers\n",
        "        #    0       1         2             3       4        5  \n",
        "\n",
        "        hidden = hidden_list[int(np.round(solution_vector[0]))] # Los valores los tomo como indices del despacio de búsqueda.\n",
        "\n",
        "        windows = windows_list[int(np.round(solution_vector[1]))]\n",
        "\n",
        "        lr = int(np.round(solution_vector[2]))\n",
        "\n",
        "        learning_rate = float(f'1e-{lr}') # El vector que toma son números enterios que solo lo cambio añadiendo el número como se muestra aquí 1e-2\n",
        "\n",
        "        batch = batch_size[int(np.round(solution_vector[3]))]\n",
        "\n",
        "        epochs = epochs_list[int(np.round(solution_vector[4]))]\n",
        "\n",
        "        n_layers = int(np.round(solution_vector[5])) # En este caso el espacio de búsqueda si es el número de celdas y no se usa como indice.\n",
        "       \n",
        "        solution_vector_2 = [hidden, windows, lr, batch, epochs, n_layers]\n",
        "\n",
        "        if solution_vector_2 in self.SOLUTIONS_LIST: # Reviso si la solución ya ha sido evaluada, entonces solo la retorno\n",
        "            idx = self.SOLUTIONS_LIST.index(solution_vector_2)\n",
        "            return self.FITNESS_LIST[idx]\n",
        "        else: # De lo contrario guardo la solución y comienso con el entrenamiento.\n",
        "            self.SOLUTIONS_LIST.append(solution_vector_2)\n",
        "            \n",
        "            optimizer = Adam(learning_rate=learning_rate) \n",
        "            \n",
        "        \n",
        "\n",
        "            # Creae una red neuronal con los hierparametros dados por solution_vector\n",
        "            self.create_ann(\n",
        "                    hidden_states=hidden,\n",
        "                    windows=windows,\n",
        "                    optimizer=optimizer,\n",
        "                    batch_size=batch,\n",
        "                    epochs=epochs,\n",
        "                    n_layers=n_layers)\n",
        "\n",
        "            # Crea el conjunto de entrenamiento y prueba usando usando una ventana \n",
        "            create_dataset.crea_all_dataset(windows=windows, train_size=train_size) \n",
        "\n",
        "\n",
        "            # Toma los valores creados de entrenamiento y de prueba\n",
        "            X_train = create_dataset.X_train\n",
        "            y_train = create_dataset.y_train\n",
        "\n",
        "\n",
        "\n",
        "\n",
        "            # Entrena el modelo\n",
        "            self.train_model(\n",
        "                X_train=X_train,\n",
        "                y_train=y_train,\n",
        "                verbose=0\n",
        "            )\n",
        "\n",
        "\n",
        "            #    test_predict_scaled\n",
        "            self.FITNESS_LIST.append(self.score)\n",
        "            self.save_solution_fitness_to_csv(solution_vector_2, self.score) # Guardamos la soluciòn y su fitness (valor de pérdida de la red LSTM)\n",
        "            return self.score # Retorna el fitness (valor de pérdida de la red LSTM)\n",
        "\n",
        "    def train_model(\n",
        "            self,\n",
        "            X_train,\n",
        "            y_train,\n",
        "            verbose=0):\n",
        "\n",
        "        # Con esto creo un conjunto de datos para entrenamiento y otro de validacion.\n",
        "        n = int(len(X_train) *.76)\n",
        "\n",
        "        X_test = X_train[n:] # No debe decir test, debe decir validation.\n",
        "        y_test = y_train[n:] # No debe decir test, debe decir validation.\n",
        "\n",
        "        X_train = X_train[:n]\n",
        "        y_train = y_train[:n]\n",
        "\n",
        "\n",
        "        early_stopping_loss = EarlyStopping(monitor='loss', patience=5)\n",
        "        early_stopping_val_loss = EarlyStopping(monitor=\"val_loss\", patience=5)\n",
        "        callbacks = [early_stopping_loss, early_stopping_val_loss]\n",
        "\n",
        "        \n",
        "\n",
        "        self.history = self.model.fit(\n",
        "                    X_train,\n",
        "                    y_train,\n",
        "                    epochs=self.epochs,\n",
        "                    validation_data=(X_test, y_test),\n",
        "                    batch_size=self.batch_size,\n",
        "                    verbose=verbose,\n",
        "                    callbacks=callbacks)\n",
        "\n",
        "\n",
        "\n",
        "        self.score = self.history.history['loss'][-1]\n",
        "        del self.model\n",
        "\n",
        "    \n",
        "    def __call__(self, solution_vector):\n",
        "        return self.train_each_particle(solution_vector)\n",
        "        \n",
        "\n",
        "\n",
        "    def train_each_particle(self, solution_vector):\n",
        "        return np.array(list(map(self.trian_ann, solution_vector)))\n",
        "\n",
        "    "
      ],
      "metadata": {
        "id": "LUg2pHD6MCWG"
      },
      "execution_count": null,
      "outputs": []
    },
    {
      "cell_type": "code",
      "source": [
        "# Documentation:\n",
        "# https://pyswarms.readthedocs.io/en/latest/installation.html\n",
        "!pip install pyswarms"
      ],
      "metadata": {
        "colab": {
          "base_uri": "https://localhost:8080/"
        },
        "id": "4unrWsCVC-pV",
        "outputId": "ead936ff-c5f5-4e5a-8ecc-e876b118954f"
      },
      "execution_count": null,
      "outputs": [
        {
          "output_type": "stream",
          "name": "stdout",
          "text": [
            "Looking in indexes: https://pypi.org/simple, https://us-python.pkg.dev/colab-wheels/public/simple/\n",
            "Collecting pyswarms\n",
            "  Downloading pyswarms-1.3.0-py2.py3-none-any.whl (104 kB)\n",
            "\u001b[K     |████████████████████████████████| 104 kB 28.6 MB/s \n",
            "\u001b[?25hRequirement already satisfied: attrs in /usr/local/lib/python3.7/dist-packages (from pyswarms) (22.1.0)\n",
            "Requirement already satisfied: numpy in /usr/local/lib/python3.7/dist-packages (from pyswarms) (1.21.6)\n",
            "Requirement already satisfied: scipy in /usr/local/lib/python3.7/dist-packages (from pyswarms) (1.7.3)\n",
            "Requirement already satisfied: matplotlib>=1.3.1 in /usr/local/lib/python3.7/dist-packages (from pyswarms) (3.2.2)\n",
            "Requirement already satisfied: future in /usr/local/lib/python3.7/dist-packages (from pyswarms) (0.16.0)\n",
            "Requirement already satisfied: pyyaml in /usr/local/lib/python3.7/dist-packages (from pyswarms) (6.0)\n",
            "Requirement already satisfied: tqdm in /usr/local/lib/python3.7/dist-packages (from pyswarms) (4.64.1)\n",
            "Requirement already satisfied: python-dateutil>=2.1 in /usr/local/lib/python3.7/dist-packages (from matplotlib>=1.3.1->pyswarms) (2.8.2)\n",
            "Requirement already satisfied: pyparsing!=2.0.4,!=2.1.2,!=2.1.6,>=2.0.1 in /usr/local/lib/python3.7/dist-packages (from matplotlib>=1.3.1->pyswarms) (3.0.9)\n",
            "Requirement already satisfied: cycler>=0.10 in /usr/local/lib/python3.7/dist-packages (from matplotlib>=1.3.1->pyswarms) (0.11.0)\n",
            "Requirement already satisfied: kiwisolver>=1.0.1 in /usr/local/lib/python3.7/dist-packages (from matplotlib>=1.3.1->pyswarms) (1.4.4)\n",
            "Requirement already satisfied: typing-extensions in /usr/local/lib/python3.7/dist-packages (from kiwisolver>=1.0.1->matplotlib>=1.3.1->pyswarms) (4.1.1)\n",
            "Requirement already satisfied: six>=1.5 in /usr/local/lib/python3.7/dist-packages (from python-dateutil>=2.1->matplotlib>=1.3.1->pyswarms) (1.15.0)\n",
            "Installing collected packages: pyswarms\n",
            "Successfully installed pyswarms-1.3.0\n"
          ]
        }
      ]
    },
    {
      "cell_type": "code",
      "source": [
        "import pyswarms as ps\n",
        "\n",
        "import csv\n",
        "\n",
        "\n",
        "\n",
        "def run():\n",
        "    assert len(limit_min) == len(limit_max)\n",
        "    np.random.seed(seed)\n",
        "\n",
        "    # Intancia modelo\n",
        "    optimizer = ps.single.GlobalBestPSO(\n",
        "        n_particles=n_particles,\n",
        "        dimensions=len(limit_min),\n",
        "        options=options, bounds=bounds)\n",
        "\n",
        "    # Reliza optimización\n",
        "    stats = optimizer.optimize(problem, iters=iters)\n",
        "\n",
        "\n",
        "if __name__ == '__main__':\n",
        "    seed = 4 # Semilla de inicio de números aleatorios\n",
        "    # Ruta de soluciones guardadas junto con su valor fitness.\n",
        "    path = 'soutions_and_fitness.csv'\n",
        "    \n",
        "    problem = Problem(save_solitions=path, seed=seed)\n",
        "\n",
        "    iters = 16 # número de iteraciones.\n",
        "    n_particles = 25 # número de particulas\n",
        "    verbose = False # Para imprimir información de partícula cada 100 iteraciones.\n",
        "    w = 0.8 # Inercia\n",
        "    c1 = 0.6 # Coeficiente de aceleración de parte cognitiva\n",
        "    c2 = 0.8 # Coeficiente de aceleración de parte social\n",
        "    # Coeficiente de construcción\n",
        "    options = {'c1': c1, 'c2': c2, 'w': w}\n",
        "    # use_co_constr = True # Si este valor es verdadero en automatico se ejecuta c1=c2=2.05\n",
        "\n",
        "    # hidden, windwos, learning_rate, batch, epochs, n_layers\n",
        "    #    0       1         2             3       4        5  \n",
        "    limit_min = [0, 0, 1, 0, 0, 1] # Orientar con las diapositivas\n",
        "    #            0  1  2  3  4  5\n",
        "    limit_max = [6, 5, 5, 3, 4, 8]\n",
        "    bounds = (limit_min, limit_max)\n",
        "    run()\n"
      ],
      "metadata": {
        "colab": {
          "base_uri": "https://localhost:8080/"
        },
        "id": "ogy0Dr8cCx2K",
        "outputId": "c68b4b2c-4d5f-41f5-d1b0-f289d2975ff9"
      },
      "execution_count": null,
      "outputs": [
        {
          "metadata": {
            "tags": null
          },
          "name": "stderr",
          "output_type": "stream",
          "text": [
            "2022-09-30 22:36:08,403 - pyswarms.single.global_best - INFO - Optimize for 16 iters with {'c1': 0.6, 'c2': 0.8, 'w': 0.8}\n"
          ]
        },
        {
          "metadata": {
            "tags": null
          },
          "name": "stdout",
          "output_type": "stream",
          "text": [
            "Created file for to save solutions and fitness\n"
          ]
        },
        {
          "metadata": {
            "tags": null
          },
          "name": "stderr",
          "output_type": "stream",
          "text": [
            "\rpyswarms.single.global_best:   0%|          |0/16"
          ]
        }
      ]
    },
    {
      "cell_type": "code",
      "source": [
        "def print_solution(*solution_vector):\n",
        "    # hidden, windwos, learning_rate, batch, epochs, n_layers, \n",
        "    #    0       1         2             3       4        5    \n",
        "    batch_size = [8, 16, 32, 64]\n",
        "    epochs_list = [12, 25, 50, 100, 150]\n",
        "    hidden_list = [1, 20, 50, 80, 96, 110, 150]\n",
        "    windows_list = [20, 40, 60, 80, 90, 100]\n",
        "\n",
        "\n",
        "    # Instancia el optimizador con un learning rate dado.\n",
        "    lr = int(np.round(solution_vector[2]))\n",
        "    learning_rate = float(f'1e-{lr}')\n",
        "    hidden = int(np.round(solution_vector[0]))\n",
        "    windows = int(np.round(solution_vector[1]))\n",
        "    batch = int(np.round(solution_vector[3]))\n",
        "    epochs = int(np.round(solution_vector[4]))\n",
        "\n",
        "\n",
        "  \n",
        "    print(\"Cells:         \", int(np.round(solution_vector[5])))\n",
        "    print(\"Hiddens:       \", hidden_list[hidden])\n",
        "    print(\"Learning rate: \", learning_rate)\n",
        "    print(\"Windows:       \", windows_list[windows])       \n",
        "    print(\"Batch:         \", batch_size[batch])\n",
        "    print(\"Epochs:        \", epochs_list[epochs])\n",
        "\n",
        "solution_google_pso = [5.83984759, 4.41877349, 3.07672751, 1.87874572, 2.70462338, 1.45628355]\n",
        "print(\"Usando PSO\")\n",
        "print(\"Caso de GOOGLE.\")\n",
        "print_solution(*solution_google_pso)"
      ],
      "metadata": {
        "id": "dytudQv3DSoT",
        "colab": {
          "base_uri": "https://localhost:8080/"
        },
        "outputId": "0c9b5ae2-4900-43ab-ad76-cd60e9a6aebb"
      },
      "execution_count": null,
      "outputs": [
        {
          "output_type": "stream",
          "name": "stdout",
          "text": [
            "Usando PSO\n",
            "Caso de GOOGLE.\n",
            "Cells:          1\n",
            "Hiddens:        150\n",
            "Learning rate:  0.001\n",
            "Windows:        90\n",
            "Batch:          32\n",
            "Epochs:         100\n"
          ]
        }
      ]
    },
    {
      "cell_type": "code",
      "source": [
        "\n",
        "path = 'GOOGL.csv'\n",
        "hidden_states = 150\n",
        "\n",
        "learning_rate = 1e-3\n",
        "windows = 90\n",
        "batch_size = 32\n",
        "epochs = 100\n",
        "\n",
        "optimizer = Adam(learning_rate=learning_rate)\n",
        "\n",
        "verbose = True # Si está en True se muestra la información de entrenamiento de la red\n",
        "create_dataset = CreateDataset(path=path)\n",
        "create_dataset.crea_all_dataset(windows=windows,train_size=0.85) \n",
        "X_train = create_dataset.X_train\n",
        "y_train = create_dataset.y_train\n",
        "X_test = create_dataset.X_test\n",
        "y_test = create_dataset.y_test"
      ],
      "metadata": {
        "id": "LJNgJDyWmB15"
      },
      "execution_count": null,
      "outputs": []
    },
    {
      "cell_type": "code",
      "source": [
        "early_stopping_loss = EarlyStopping(monitor='loss', patience=5)\n",
        "early_stopping_val_loss = EarlyStopping(monitor=\"val_loss\", patience=5)\n",
        "callbacks = [early_stopping_loss, early_stopping_val_loss]"
      ],
      "metadata": {
        "id": "KK_mnJdHmSAA"
      },
      "execution_count": null,
      "outputs": []
    },
    {
      "cell_type": "code",
      "source": [
        "\n",
        "model = Sequential()\n",
        "\n",
        "model.add(LSTM(hidden_states, return_sequences=False, input_shape=(windows, 1)))\n",
        "model.add(Dropout(0.5))\n",
        "\n",
        "model.add(Dense(1))\n",
        "model.summary()"
      ],
      "metadata": {
        "colab": {
          "base_uri": "https://localhost:8080/"
        },
        "id": "dfn5YYxQmaFv",
        "outputId": "b122e325-49cc-4384-809b-17c5a4c4c2de"
      },
      "execution_count": null,
      "outputs": [
        {
          "output_type": "stream",
          "name": "stdout",
          "text": [
            "Model: \"sequential_1\"\n",
            "_________________________________________________________________\n",
            " Layer (type)                Output Shape              Param #   \n",
            "=================================================================\n",
            " lstm_1 (LSTM)               (None, 150)               91200     \n",
            "                                                                 \n",
            " dropout_1 (Dropout)         (None, 150)               0         \n",
            "                                                                 \n",
            " dense_1 (Dense)             (None, 1)                 151       \n",
            "                                                                 \n",
            "=================================================================\n",
            "Total params: 91,351\n",
            "Trainable params: 91,351\n",
            "Non-trainable params: 0\n",
            "_________________________________________________________________\n"
          ]
        }
      ]
    },
    {
      "cell_type": "code",
      "source": [
        "model.compile(loss=\"mse\", optimizer=optimizer)\n",
        "n = int(len(X_train) *.76)\n",
        "history = model.fit(\n",
        "            X_train,\n",
        "            y_train,\n",
        "            epochs=epochs,\n",
        "            batch_size=batch_size,\n",
        "            verbose=verbose,\n",
        "\n",
        "            )\n"
      ],
      "metadata": {
        "colab": {
          "base_uri": "https://localhost:8080/"
        },
        "id": "zMoY0PgGmeFe",
        "outputId": "7655d923-9447-4428-c98d-9789ed28a865"
      },
      "execution_count": null,
      "outputs": [
        {
          "output_type": "stream",
          "name": "stdout",
          "text": [
            "Epoch 1/100\n",
            "114/114 [==============================] - 7s 8ms/step - loss: 0.0012\n",
            "Epoch 2/100\n",
            "114/114 [==============================] - 1s 8ms/step - loss: 3.6166e-04\n",
            "Epoch 3/100\n",
            "114/114 [==============================] - 1s 8ms/step - loss: 3.2978e-04\n",
            "Epoch 4/100\n",
            "114/114 [==============================] - 1s 8ms/step - loss: 3.1771e-04\n",
            "Epoch 5/100\n",
            "114/114 [==============================] - 1s 8ms/step - loss: 2.4206e-04\n",
            "Epoch 6/100\n",
            "114/114 [==============================] - 1s 8ms/step - loss: 2.0931e-04\n",
            "Epoch 7/100\n",
            "114/114 [==============================] - 1s 7ms/step - loss: 2.0978e-04\n",
            "Epoch 8/100\n",
            "114/114 [==============================] - 1s 7ms/step - loss: 2.2595e-04\n",
            "Epoch 9/100\n",
            "114/114 [==============================] - 1s 7ms/step - loss: 1.9482e-04\n",
            "Epoch 10/100\n",
            "114/114 [==============================] - 1s 8ms/step - loss: 1.5438e-04\n",
            "Epoch 11/100\n",
            "114/114 [==============================] - 1s 8ms/step - loss: 1.5686e-04\n",
            "Epoch 12/100\n",
            "114/114 [==============================] - 1s 7ms/step - loss: 1.6043e-04\n",
            "Epoch 13/100\n",
            "114/114 [==============================] - 1s 7ms/step - loss: 1.3946e-04\n",
            "Epoch 14/100\n",
            "114/114 [==============================] - 1s 7ms/step - loss: 1.3319e-04\n",
            "Epoch 15/100\n",
            "114/114 [==============================] - 1s 7ms/step - loss: 1.3328e-04\n",
            "Epoch 16/100\n",
            "114/114 [==============================] - 1s 7ms/step - loss: 1.3641e-04\n",
            "Epoch 17/100\n",
            "114/114 [==============================] - 1s 7ms/step - loss: 1.1763e-04\n",
            "Epoch 18/100\n",
            "114/114 [==============================] - 1s 7ms/step - loss: 1.2780e-04\n",
            "Epoch 19/100\n",
            "114/114 [==============================] - 1s 7ms/step - loss: 1.2685e-04\n",
            "Epoch 20/100\n",
            "114/114 [==============================] - 1s 7ms/step - loss: 1.2053e-04\n",
            "Epoch 21/100\n",
            "114/114 [==============================] - 1s 7ms/step - loss: 1.2632e-04\n",
            "Epoch 22/100\n",
            "114/114 [==============================] - 1s 7ms/step - loss: 1.3909e-04\n",
            "Epoch 23/100\n",
            "114/114 [==============================] - 1s 8ms/step - loss: 1.2779e-04\n",
            "Epoch 24/100\n",
            "114/114 [==============================] - 1s 8ms/step - loss: 1.1853e-04\n",
            "Epoch 25/100\n",
            "114/114 [==============================] - 1s 7ms/step - loss: 1.1143e-04\n",
            "Epoch 26/100\n",
            "114/114 [==============================] - 1s 7ms/step - loss: 1.2231e-04\n",
            "Epoch 27/100\n",
            "114/114 [==============================] - 1s 7ms/step - loss: 1.1196e-04\n",
            "Epoch 28/100\n",
            "114/114 [==============================] - 1s 7ms/step - loss: 1.3211e-04\n",
            "Epoch 29/100\n",
            "114/114 [==============================] - 1s 7ms/step - loss: 1.3221e-04\n",
            "Epoch 30/100\n",
            "114/114 [==============================] - 1s 7ms/step - loss: 1.2514e-04\n",
            "Epoch 31/100\n",
            "114/114 [==============================] - 1s 7ms/step - loss: 1.3944e-04\n",
            "Epoch 32/100\n",
            "114/114 [==============================] - 1s 7ms/step - loss: 1.3194e-04\n",
            "Epoch 33/100\n",
            "114/114 [==============================] - 1s 7ms/step - loss: 1.2122e-04\n",
            "Epoch 34/100\n",
            "114/114 [==============================] - 1s 7ms/step - loss: 1.3004e-04\n",
            "Epoch 35/100\n",
            "114/114 [==============================] - 1s 8ms/step - loss: 1.1568e-04\n",
            "Epoch 36/100\n",
            "114/114 [==============================] - 1s 7ms/step - loss: 1.2585e-04\n",
            "Epoch 37/100\n",
            "114/114 [==============================] - 1s 7ms/step - loss: 1.1510e-04\n",
            "Epoch 38/100\n",
            "114/114 [==============================] - 1s 7ms/step - loss: 1.4063e-04\n",
            "Epoch 39/100\n",
            "114/114 [==============================] - 1s 7ms/step - loss: 1.2596e-04\n",
            "Epoch 40/100\n",
            "114/114 [==============================] - 1s 7ms/step - loss: 1.2104e-04\n",
            "Epoch 41/100\n",
            "114/114 [==============================] - 1s 7ms/step - loss: 1.2200e-04\n",
            "Epoch 42/100\n",
            "114/114 [==============================] - 1s 7ms/step - loss: 1.2124e-04\n",
            "Epoch 43/100\n",
            "114/114 [==============================] - 1s 7ms/step - loss: 1.2651e-04\n",
            "Epoch 44/100\n",
            "114/114 [==============================] - 1s 7ms/step - loss: 1.1537e-04\n",
            "Epoch 45/100\n",
            "114/114 [==============================] - 1s 7ms/step - loss: 1.1124e-04\n",
            "Epoch 46/100\n",
            "114/114 [==============================] - 1s 7ms/step - loss: 1.2577e-04\n",
            "Epoch 47/100\n",
            "114/114 [==============================] - 1s 7ms/step - loss: 1.2360e-04\n",
            "Epoch 48/100\n",
            "114/114 [==============================] - 1s 7ms/step - loss: 1.1928e-04\n",
            "Epoch 49/100\n",
            "114/114 [==============================] - 1s 7ms/step - loss: 1.1824e-04\n",
            "Epoch 50/100\n",
            "114/114 [==============================] - 1s 7ms/step - loss: 1.2018e-04\n",
            "Epoch 51/100\n",
            "114/114 [==============================] - 1s 7ms/step - loss: 1.2887e-04\n",
            "Epoch 52/100\n",
            "114/114 [==============================] - 1s 7ms/step - loss: 1.1998e-04\n",
            "Epoch 53/100\n",
            "114/114 [==============================] - 1s 7ms/step - loss: 1.1923e-04\n",
            "Epoch 54/100\n",
            "114/114 [==============================] - 1s 7ms/step - loss: 1.1154e-04\n",
            "Epoch 55/100\n",
            "114/114 [==============================] - 1s 7ms/step - loss: 1.2280e-04\n",
            "Epoch 56/100\n",
            "114/114 [==============================] - 1s 7ms/step - loss: 1.2017e-04\n",
            "Epoch 57/100\n",
            "114/114 [==============================] - 1s 7ms/step - loss: 1.3206e-04\n",
            "Epoch 58/100\n",
            "114/114 [==============================] - 1s 7ms/step - loss: 1.1890e-04\n",
            "Epoch 59/100\n",
            "114/114 [==============================] - 1s 7ms/step - loss: 1.1701e-04\n",
            "Epoch 60/100\n",
            "114/114 [==============================] - 1s 8ms/step - loss: 1.1848e-04\n",
            "Epoch 61/100\n",
            "114/114 [==============================] - 1s 8ms/step - loss: 1.0562e-04\n",
            "Epoch 62/100\n",
            "114/114 [==============================] - 1s 7ms/step - loss: 1.2338e-04\n",
            "Epoch 63/100\n",
            "114/114 [==============================] - 1s 7ms/step - loss: 1.1997e-04\n",
            "Epoch 64/100\n",
            "114/114 [==============================] - 1s 8ms/step - loss: 1.1129e-04\n",
            "Epoch 65/100\n",
            "114/114 [==============================] - 1s 7ms/step - loss: 1.0723e-04\n",
            "Epoch 66/100\n",
            "114/114 [==============================] - 1s 7ms/step - loss: 1.1160e-04\n",
            "Epoch 67/100\n",
            "114/114 [==============================] - 1s 7ms/step - loss: 1.1598e-04\n",
            "Epoch 68/100\n",
            "114/114 [==============================] - 1s 7ms/step - loss: 1.1575e-04\n",
            "Epoch 69/100\n",
            "114/114 [==============================] - 1s 7ms/step - loss: 1.2007e-04\n",
            "Epoch 70/100\n",
            "114/114 [==============================] - 1s 7ms/step - loss: 1.1623e-04\n",
            "Epoch 71/100\n",
            "114/114 [==============================] - 1s 7ms/step - loss: 1.1029e-04\n",
            "Epoch 72/100\n",
            "114/114 [==============================] - 1s 8ms/step - loss: 1.1435e-04\n",
            "Epoch 73/100\n",
            "114/114 [==============================] - 1s 8ms/step - loss: 1.2104e-04\n",
            "Epoch 74/100\n",
            "114/114 [==============================] - 1s 7ms/step - loss: 1.1012e-04\n",
            "Epoch 75/100\n",
            "114/114 [==============================] - 1s 8ms/step - loss: 1.2081e-04\n",
            "Epoch 76/100\n",
            "114/114 [==============================] - 1s 8ms/step - loss: 1.0607e-04\n",
            "Epoch 77/100\n",
            "114/114 [==============================] - 1s 7ms/step - loss: 1.0943e-04\n",
            "Epoch 78/100\n",
            "114/114 [==============================] - 1s 7ms/step - loss: 1.1143e-04\n",
            "Epoch 79/100\n",
            "114/114 [==============================] - 1s 7ms/step - loss: 1.1979e-04\n",
            "Epoch 80/100\n",
            "114/114 [==============================] - 1s 7ms/step - loss: 1.1552e-04\n",
            "Epoch 81/100\n",
            "114/114 [==============================] - 1s 7ms/step - loss: 1.1110e-04\n",
            "Epoch 82/100\n",
            "114/114 [==============================] - 1s 7ms/step - loss: 1.2137e-04\n",
            "Epoch 83/100\n",
            "114/114 [==============================] - 1s 7ms/step - loss: 1.1815e-04\n",
            "Epoch 84/100\n",
            "114/114 [==============================] - 1s 8ms/step - loss: 1.0868e-04\n",
            "Epoch 85/100\n",
            "114/114 [==============================] - 1s 7ms/step - loss: 1.2074e-04\n",
            "Epoch 86/100\n",
            "114/114 [==============================] - 1s 7ms/step - loss: 1.1517e-04\n",
            "Epoch 87/100\n",
            "114/114 [==============================] - 1s 7ms/step - loss: 1.0801e-04\n",
            "Epoch 88/100\n",
            "114/114 [==============================] - 1s 8ms/step - loss: 1.0895e-04\n",
            "Epoch 89/100\n",
            "114/114 [==============================] - 1s 7ms/step - loss: 1.2449e-04\n",
            "Epoch 90/100\n",
            "114/114 [==============================] - 1s 8ms/step - loss: 1.1758e-04\n",
            "Epoch 91/100\n",
            "114/114 [==============================] - 1s 7ms/step - loss: 1.1575e-04\n",
            "Epoch 92/100\n",
            "114/114 [==============================] - 1s 7ms/step - loss: 1.1412e-04\n",
            "Epoch 93/100\n",
            "114/114 [==============================] - 1s 8ms/step - loss: 1.0504e-04\n",
            "Epoch 94/100\n",
            "114/114 [==============================] - 1s 10ms/step - loss: 1.1262e-04\n",
            "Epoch 95/100\n",
            "114/114 [==============================] - 1s 10ms/step - loss: 1.1317e-04\n",
            "Epoch 96/100\n",
            "114/114 [==============================] - 1s 10ms/step - loss: 1.1072e-04\n",
            "Epoch 97/100\n",
            "114/114 [==============================] - 1s 7ms/step - loss: 1.0366e-04\n",
            "Epoch 98/100\n",
            "114/114 [==============================] - 1s 7ms/step - loss: 1.1723e-04\n",
            "Epoch 99/100\n",
            "114/114 [==============================] - 1s 7ms/step - loss: 1.0012e-04\n",
            "Epoch 100/100\n",
            "114/114 [==============================] - 1s 7ms/step - loss: 1.0704e-04\n"
          ]
        }
      ]
    },
    {
      "cell_type": "code",
      "source": [
        "# Set the font dictionaries (for plot title and axis titles)\n",
        "title_font = {'fontname':'Arial', 'size':'16', 'color':'black', 'weight':'normal',\n",
        "              'verticalalignment':'bottom'} # Bottom vertical alignment for more space\n",
        "axis_font = {'fontname':'Arial', 'size':'14'}\n",
        "plt.figure(figsize=(7, 4.5))\n",
        "plt.plot(history.history['loss'], color=\"#1CBBC4\")\n",
        "plt.title('Loss vs. epochs', **title_font)\n",
        "plt.ylabel('loss',  **axis_font)\n",
        "plt.xlabel('epochs')\n",
        "plt.grid(True)\n",
        "# plt.xticks(np.arange(len(history_loss_array)), np.arange(1, len(history_loss_array)+1))\n",
        "plt.yscale('log')\n",
        "# plt.savefig('IMAGE_EXPERIMENTS/loss_CNN-LSTM.jpg')\n",
        "plt.show()"
      ],
      "metadata": {
        "colab": {
          "base_uri": "https://localhost:8080/"
        },
        "id": "cwA6i-BPmiBO",
        "outputId": "6017b7db-a59b-45b2-db79-f5799990f9c5"
      },
      "execution_count": null,
      "outputs": [
        {
          "output_type": "display_data",
          "data": {
            "text/plain": [
              "<Figure size 504x324 with 1 Axes>"
            ],
            "image/png": "[encoded data removed]"
          },
          "metadata": {
            "needs_background": "light"
          }
        }
      ]
    },
    {
      "cell_type": "code",
      "source": [
        "def axis(date, windows):\n",
        "    dataX = []\n",
        "    for i in range(len(date) - windows   -1):\n",
        "        dataX.append(date[i + windows])    \n",
        "    return np.array(dataX)"
      ],
      "metadata": {
        "id": "Ubn7pZEInCwZ"
      },
      "execution_count": null,
      "outputs": []
    },
    {
      "cell_type": "code",
      "source": [
        "shape = X_test.shape\n",
        "\n",
        "X_test = X_test.reshape((shape[0], shape[1], shape[2]))\n",
        "X_test.shape\n",
        "y_predict = model.predict(X_test)\n",
        "y_predict.shape, y_test.shape\n",
        "y_predict = create_dataset.scale_close.inverse_transform(y_predict)\n",
        "y_test = create_dataset.scale_close.inverse_transform(y_test.reshape(1,-1)).reshape(-1)\n",
        "\n",
        "axis_x = create_dataset.df_all.index\n",
        "\n",
        "training_size = int(len(axis_x)*0.85) \n",
        "axis_x_train, axis_x_test = axis_x[0:training_size], axis_x[training_size:len(axis_x)]\n",
        "axis_x_test = axis(axis_x_test, windows)\n",
        "axis_x_train = axis(axis_x_train, windows)\n",
        "\n",
        "# Set the font dictionaries (for plot title and axis titles)\n",
        "title_font = {'fontname':'Arial', 'size':'20', 'color':'black', 'weight':'normal',\n",
        "              'verticalalignment':'bottom'} # Bottom vertical alignment for more space\n",
        "axis_font = {'fontname':'Arial', 'size':'16'}\n",
        "\n",
        "font = {'size': 15} \n",
        "fig, ax= plt.subplots(figsize=(15, 8))\n",
        "\n",
        "# ax.imshow(Z2, extent=extent, origin=\"lower\")\n",
        "ax.plot(axis_x_test, y_predict.reshape(-1), label='Predicted', color=\"#1CBBC4\")\n",
        "ax.plot(axis_x_test, y_test.reshape(-1), label='True', color=\"#ED3007\")\n",
        "ax.set_title(\"Forecasting of Close Price of Google stocks (LSTM)\", **title_font)\n",
        "\n",
        "\n",
        "axins = ax.inset_axes([0.13, 0.4, 0.3, 0.3])\n",
        "axins.set_title('Detail')\n",
        "axins.plot(axis_x_test[100:150], y_predict[100:150], label='True', color=\"#1CBBC4\")\n",
        "axins.plot(axis_x_test[100:150], y_test[100:150], label='True', color=\"#ED3007\")\n",
        "axins.set_xticklabels([])\n",
        "axins.set_yticklabels([])\n",
        "axins.xaxis.set_visible(False)\n",
        "axins.yaxis.set_visible(False)\n",
        "ax.indicate_inset_zoom(axins, label='')\n",
        "\n",
        "\n",
        "ax.set_xlabel('Date', **axis_font)\n",
        "ax.set_ylabel('Close price', **axis_font)\n",
        "\n",
        "\n",
        "\n",
        "ax.legend()\n",
        "ax.grid()\n",
        "# plt.savefig('IMAGE_EXPERIMENTS/predicts_CNN-LSTM.jpg')\n",
        "plt.show()"
      ],
      "metadata": {
        "colab": {
          "base_uri": "https://localhost:8080/"
        },
        "id": "nLUkeZ_mmkvO",
        "outputId": "550d754a-9663-410c-dfe1-ed725ba5091d"
      },
      "execution_count": null,
      "outputs": [
        {
          "output_type": "display_data",
          "data": {
            "text/plain": [
              "<Figure size 1080x576 with 1 Axes>"
            ],
            "image/png": "[encoded data removed]"
          },
          "metadata": {
            "needs_background": "light"
          }
        }
      ]
    },
    {
      "cell_type": "code",
      "source": [],
      "metadata": {
        "id": "3oEZE8Ismu--"
      },
      "execution_count": null,
      "outputs": []
    }
  ]
}